{
  "nbformat": 4,
  "nbformat_minor": 0,
  "metadata": {
    "colab": {
      "provenance": []
    },
    "kernelspec": {
      "name": "python3",
      "display_name": "Python 3"
    },
    "language_info": {
      "name": "python"
    }
  },
  "cells": [
    {
      "cell_type": "code",
      "execution_count": 23,
      "metadata": {
        "id": "SuBVXVhaxPOZ"
      },
      "outputs": [],
      "source": [
        "import pandas as pd\n",
        "import numpy as np\n",
        "import scipy.stats as stats\n",
        "\n",
        "np.random.seed(22)\n",
        "\n",
        "df = pd.read_csv('big12-22.csv')\n",
        "\n",
        "# Chaing format of Date column\n",
        "df['Date'] = pd.to_datetime(df['Date'], format='%m/%d/%Y %H:%M')\n",
        "\n",
        "# Filterthrough to only have Big 12 vs Big 12 games\n",
        "df = df.loc[df['Custom'] == 'Big 12']\n",
        "\n",
        "# Filter through to only have games before 2017-10-31\n",
        "d1 = df.loc[df['Date'] < '2017-10-31']\n",
        "\n",
        "# Filter thorugh to only have games after 2017-10-31\n",
        "d2 = df.loc[df['Date'] > '2017-10-31']\n",
        "\n",
        "# Filter through to get 4 dataframes\n",
        "d1_w = d1.loc[d1['Win/Loss'] == 'W']    # Winning teams stats for games prior to 2017-10-31\n",
        "d2_w = d2.loc[d2['Win/Loss'] == 'W']    # Losing teams stats for games prior to 2017-10-31\n",
        "d1_l = d1.loc[d1['Win/Loss'] == 'L']    # Winning teams stats for games after 2017-10-31\n",
        "d2_l = d2.loc[d2['Win/Loss'] == 'L']    # Losing teams stats for games after 2017-10-31\n",
        "\n",
        "\n",
        "# Specify variables that are continuous\n",
        "continuous = ['Passing_Pct', 'Passing_Yds', 'Rushing_Yds', 'Rushing_Avg', 'Total Offense_Avg', 'Total Offense_Yds', 'Penalties_Yds']\n",
        "\n"
      ]
    },
    {
      "cell_type": "code",
      "source": [
        "# List to hold each of the 4 dataframes\n",
        "dfs = [d1_w, d2_w, d1_l, d2_l]\n",
        "\n",
        "# Specify normal and non-normal counts\n",
        "num_norm = 0\n",
        "num_not_norm = 0\n",
        "\n",
        "for j in continuous:\n",
        "  for i in dfs:\n",
        "    val, p = stats.shapiro(i[f'{j}'])\n",
        "    if p > 0.05:\n",
        "      print(f'{j} is normally distributed', p)\n",
        "      num_norm += 1\n",
        "    else:\n",
        "      print(f'{j} is not normally distributed', p)\n",
        "      num_not_norm += 1\n",
        "  print()\n",
        "\n",
        "print('normal:', num_norm)\n",
        "print('not normal:', num_not_norm)"
      ],
      "metadata": {
        "colab": {
          "base_uri": "https://localhost:8080/"
        },
        "id": "V33NVIN4yGr_",
        "outputId": "8ed20865-19d5-4621-fb1e-d17885ead9b4"
      },
      "execution_count": 24,
      "outputs": [
        {
          "output_type": "stream",
          "name": "stdout",
          "text": [
            "Passing_Pct is normally distributed 0.3013087511062622\n",
            "Passing_Pct is not normally distributed 0.04041854292154312\n",
            "Passing_Pct is normally distributed 0.9699551463127136\n",
            "Passing_Pct is not normally distributed 0.006699371617287397\n",
            "\n",
            "Passing_Yds is not normally distributed 0.03100161999464035\n",
            "Passing_Yds is normally distributed 0.12376557290554047\n",
            "Passing_Yds is not normally distributed 4.0129769331542775e-05\n",
            "Passing_Yds is normally distributed 0.0664287880063057\n",
            "\n",
            "Rushing_Yds is not normally distributed 0.003604703117161989\n",
            "Rushing_Yds is not normally distributed 0.0011778358602896333\n",
            "Rushing_Yds is not normally distributed 1.2296212936746542e-08\n",
            "Rushing_Yds is not normally distributed 0.0009758236701600254\n",
            "\n",
            "Rushing_Avg is not normally distributed 0.023008376359939575\n",
            "Rushing_Avg is not normally distributed 3.6774437717213004e-08\n",
            "Rushing_Avg is not normally distributed 0.00012453921954147518\n",
            "Rushing_Avg is not normally distributed 0.0021598688326776028\n",
            "\n",
            "Total Offense_Avg is not normally distributed 0.0008053933270275593\n",
            "Total Offense_Avg is not normally distributed 7.089798828019411e-07\n",
            "Total Offense_Avg is normally distributed 0.0815204307436943\n",
            "Total Offense_Avg is normally distributed 0.6308636665344238\n",
            "\n",
            "Total Offense_Yds is not normally distributed 0.0006396699463948607\n",
            "Total Offense_Yds is normally distributed 0.24731320142745972\n",
            "Total Offense_Yds is normally distributed 0.05120960623025894\n",
            "Total Offense_Yds is normally distributed 0.17343856394290924\n",
            "\n",
            "Penalties_Yds is not normally distributed 0.00012023592717014253\n",
            "Penalties_Yds is not normally distributed 0.00031938889878802\n",
            "Penalties_Yds is not normally distributed 7.800115553457942e-10\n",
            "Penalties_Yds is not normally distributed 0.0013097361661493778\n",
            "\n",
            "normal: 9\n",
            "not normal: 19\n"
          ]
        }
      ]
    },
    {
      "cell_type": "code",
      "source": [
        "dfs = [d1_w, d2_w, d1_l, d2_l]\n",
        "continuous = ['Passing_Pct', 'Passing_Yds', 'Rushing_Yds', 'Rushing_Avg', 'Total Offense_Avg', 'Total Offense_Yds', 'Penalties_Yds']\n",
        "num_norm = 0\n",
        "num_not_norm = 0\n",
        "for j in continuous:\n",
        "  for i in dfs:\n",
        "    val, p = stats.shapiro(i[f'{j}'])\n",
        "    if p > 0.00179:\n",
        "      print(f'{j} is normally distributed', p)\n",
        "      num_norm += 1\n",
        "    else:\n",
        "      print(f'{j} is not normally distributed', p)\n",
        "      num_not_norm += 1\n",
        "  print()\n",
        "\n",
        "print('normal:', num_norm)\n",
        "print('not normal:', num_not_norm)"
      ],
      "metadata": {
        "colab": {
          "base_uri": "https://localhost:8080/"
        },
        "id": "ykVQN91OyKZc",
        "outputId": "7d570f89-bb57-4567-fc05-81f96f684bbf"
      },
      "execution_count": 25,
      "outputs": [
        {
          "output_type": "stream",
          "name": "stdout",
          "text": [
            "Passing_Pct is normally distributed 0.3013087511062622\n",
            "Passing_Pct is normally distributed 0.04041854292154312\n",
            "Passing_Pct is normally distributed 0.9699551463127136\n",
            "Passing_Pct is normally distributed 0.006699371617287397\n",
            "\n",
            "Passing_Yds is normally distributed 0.03100161999464035\n",
            "Passing_Yds is normally distributed 0.12376557290554047\n",
            "Passing_Yds is not normally distributed 4.0129769331542775e-05\n",
            "Passing_Yds is normally distributed 0.0664287880063057\n",
            "\n",
            "Rushing_Yds is normally distributed 0.003604703117161989\n",
            "Rushing_Yds is not normally distributed 0.0011778358602896333\n",
            "Rushing_Yds is not normally distributed 1.2296212936746542e-08\n",
            "Rushing_Yds is not normally distributed 0.0009758236701600254\n",
            "\n",
            "Rushing_Avg is normally distributed 0.023008376359939575\n",
            "Rushing_Avg is not normally distributed 3.6774437717213004e-08\n",
            "Rushing_Avg is not normally distributed 0.00012453921954147518\n",
            "Rushing_Avg is normally distributed 0.0021598688326776028\n",
            "\n",
            "Total Offense_Avg is not normally distributed 0.0008053933270275593\n",
            "Total Offense_Avg is not normally distributed 7.089798828019411e-07\n",
            "Total Offense_Avg is normally distributed 0.0815204307436943\n",
            "Total Offense_Avg is normally distributed 0.6308636665344238\n",
            "\n",
            "Total Offense_Yds is not normally distributed 0.0006396699463948607\n",
            "Total Offense_Yds is normally distributed 0.24731320142745972\n",
            "Total Offense_Yds is normally distributed 0.05120960623025894\n",
            "Total Offense_Yds is normally distributed 0.17343856394290924\n",
            "\n",
            "Penalties_Yds is not normally distributed 0.00012023592717014253\n",
            "Penalties_Yds is not normally distributed 0.00031938889878802\n",
            "Penalties_Yds is not normally distributed 7.800115553457942e-10\n",
            "Penalties_Yds is not normally distributed 0.0013097361661493778\n",
            "\n",
            "normal: 15\n",
            "not normal: 13\n"
          ]
        }
      ]
    },
    {
      "cell_type": "code",
      "source": [],
      "metadata": {
        "id": "LPMO2B-oEmEx"
      },
      "execution_count": null,
      "outputs": []
    }
  ]
}