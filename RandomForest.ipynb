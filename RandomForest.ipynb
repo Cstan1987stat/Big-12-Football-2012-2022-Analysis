{
  "nbformat": 4,
  "nbformat_minor": 0,
  "metadata": {
    "colab": {
      "provenance": []
    },
    "kernelspec": {
      "name": "python3",
      "display_name": "Python 3"
    },
    "language_info": {
      "name": "python"
    }
  },
  "cells": [
    {
      "cell_type": "code",
      "execution_count": 1,
      "metadata": {
        "id": "P5SKtFWN74jV"
      },
      "outputs": [],
      "source": [
        "# Importing necessary libraries for machine learning and data visualization\n",
        "import pandas as pd\n",
        "import numpy as np\n",
        "import matplotlib.pyplot as plt\n",
        "import seaborn as sns\n",
        "from sklearn.ensemble import RandomForestClassifier\n",
        "from sklearn.tree import DecisionTreeClassifier\n",
        "from sklearn.tree import export_graphviz\n",
        "from sklearn.metrics import accuracy_score"
      ]
    },
    {
      "cell_type": "code",
      "source": [
        "# Loading in and filtering to only have conference games\n",
        "df = pd.read_csv('big12-22.csv')\n",
        "df = df.loc[df['Custom'] == 'Big 12']\n",
        "print(df.columns)"
      ],
      "metadata": {
        "id": "KEDhj3xj8sjd",
        "colab": {
          "base_uri": "https://localhost:8080/"
        },
        "outputId": "0edc31c0-c928-49a6-c218-ae2446a0d6fa"
      },
      "execution_count": 2,
      "outputs": [
        {
          "output_type": "stream",
          "name": "stdout",
          "text": [
            "Index(['Rk', 'Date', 'Team', 'H/A', 'Opponent', 'Result', 'Win/Loss',\n",
            "       'Team Points', 'Opponent Points', 'Passing_Cmp', 'Passing_Att',\n",
            "       'Passing_Pct', 'Passing_Yds', 'Passing_TD', 'Rushing_Att',\n",
            "       'Rushing_Yds', 'Rushing_Avg', 'Rushing_TD', 'Total Offense_Plays',\n",
            "       'Total Offense_Yds', 'Total Offense_Avg', 'First Downs_Pass',\n",
            "       'First Downs_Rush', 'First Downs_Pen', 'First Downs_Tot',\n",
            "       'Penalties_No.', 'Penalties_Yds', 'Turnovers_Fum', 'Turnovers_Int',\n",
            "       'Turnovers_Tot', 'Season', 'Custom', 'WINS', 'Losses'],\n",
            "      dtype='object')\n"
          ]
        }
      ]
    },
    {
      "cell_type": "code",
      "source": [
        "# Splitting up the data into training and testing sets\n",
        "testing = df.loc[df['Season'] >= 2020]\n",
        "train = df.loc[df['Season'] < 2020]\n",
        "\n",
        "# Making sure there is a proper amount of data in both training and testing data\n",
        "print(train.shape)\n",
        "print(testing.shape)"
      ],
      "metadata": {
        "id": "pymSi0xA-6UK",
        "colab": {
          "base_uri": "https://localhost:8080/"
        },
        "outputId": "05607db2-ffa0-49dd-ef44-17edb2209069"
      },
      "execution_count": 3,
      "outputs": [
        {
          "output_type": "stream",
          "name": "stdout",
          "text": [
            "(726, 34)\n",
            "(272, 34)\n"
          ]
        }
      ]
    },
    {
      "cell_type": "code",
      "source": [
        "# Creating two lists to hold the predictor numerical variables and the target classification variable\n",
        "pred = ['Passing_Cmp', 'Passing_Att',\n",
        "       'Passing_Pct', 'Passing_Yds', 'Passing_TD', 'Rushing_Att',\n",
        "       'Rushing_Yds', 'Rushing_Avg', 'Rushing_TD', 'Total Offense_Plays',\n",
        "       'Total Offense_Yds', 'Total Offense_Avg', 'First Downs_Pass',\n",
        "       'First Downs_Rush', 'First Downs_Pen', 'First Downs_Tot',\n",
        "       'Penalties_No.', 'Penalties_Yds', 'Turnovers_Fum', 'Turnovers_Int',\n",
        "       'Turnovers_Tot',]\n",
        "target = ['Win/Loss']"
      ],
      "metadata": {
        "id": "HBqlyaYDbwag"
      },
      "execution_count": 4,
      "outputs": []
    },
    {
      "cell_type": "code",
      "source": [
        "# Creating training predictors, training target, testing predictors, and testing target dataframes.\n",
        "train_pred = train[pred]\n",
        "train_target = train[target]\n",
        "test_pred = testing[pred]\n",
        "test_target = testing[target]"
      ],
      "metadata": {
        "id": "k-CLXp9MbpHt"
      },
      "execution_count": 5,
      "outputs": []
    },
    {
      "cell_type": "code",
      "source": [
        "# Specify and fit Decision Tree Classifier with random_state to guarantee reproducibilty\n",
        "# and specifiy max depth so the tree is not 10 levels deep with over 100 different nodes\n",
        "dct_md = DecisionTreeClassifier(random_state=22, max_depth=3)\n",
        "dct_md.fit(train_pred, train_target)\n",
        "\n",
        "# Below code from following github inspired by https://github.com/ageron/handson-ml/blob/master/06_decision_trees.ipynb\n",
        "export_graphviz(\n",
        "                dct_md,\n",
        "                out_file='tre.dot',\n",
        "                feature_names=train_pred.columns,\n",
        "                class_names=['L','W'],\n",
        "                rounded=True,\n",
        "                filled=True\n",
        "                )\n",
        "!dot -Tpng tre.dot -o tre.png"
      ],
      "metadata": {
        "id": "SeIMv2tiQ2v0"
      },
      "execution_count": 6,
      "outputs": []
    },
    {
      "cell_type": "code",
      "source": [
        "# Specify and fit Random Forest Classifier with random_state to guaranteee reproducibilty\n",
        "rcf = RandomForestClassifier(random_state=22)\n",
        "rcf.fit(train_pred, train_target)\n",
        "\n",
        "print(accuracy_score(test_target, rcf.predict(test_pred)))"
      ],
      "metadata": {
        "colab": {
          "base_uri": "https://localhost:8080/"
        },
        "id": "YwNxE3RnQ1Yu",
        "outputId": "92f52541-1d8f-4389-dcd7-7c15221c9db7"
      },
      "execution_count": 7,
      "outputs": [
        {
          "output_type": "stream",
          "name": "stderr",
          "text": [
            "<ipython-input-7-bd161fd6090a>:3: DataConversionWarning: A column-vector y was passed when a 1d array was expected. Please change the shape of y to (n_samples,), for example using ravel().\n",
            "  rcf.fit(train_pred, train_target)\n"
          ]
        },
        {
          "output_type": "stream",
          "name": "stdout",
          "text": [
            "0.7463235294117647\n"
          ]
        }
      ]
    },
    {
      "cell_type": "code",
      "source": [
        "# Set up empty Data Frame\n",
        "f_impt = pd.DataFrame()\n",
        "\n",
        "# Create a feature columnn and a feature importance column\n",
        "f_impt['feature'] = pred\n",
        "f_impt['importance'] = rcf.feature_importances_\n",
        "\n",
        "# Sort the values by importance\n",
        "f_impt = f_impt.sort_values('importance', ascending=False)\n",
        "print(f_impt)"
      ],
      "metadata": {
        "id": "YbfvdM9Af8IY",
        "colab": {
          "base_uri": "https://localhost:8080/"
        },
        "outputId": "bd27deb2-03a4-42f5-a213-f5fac1a4021b"
      },
      "execution_count": 8,
      "outputs": [
        {
          "output_type": "stream",
          "name": "stdout",
          "text": [
            "                feature  importance\n",
            "2           Passing_Pct    0.100239\n",
            "11    Total Offense_Avg    0.095742\n",
            "6           Rushing_Yds    0.093700\n",
            "10    Total Offense_Yds    0.071847\n",
            "1           Passing_Att    0.064488\n",
            "5           Rushing_Att    0.058833\n",
            "7           Rushing_Avg    0.052583\n",
            "20        Turnovers_Tot    0.047461\n",
            "8            Rushing_TD    0.042732\n",
            "13     First Downs_Rush    0.041545\n",
            "3           Passing_Yds    0.040734\n",
            "0           Passing_Cmp    0.035836\n",
            "17        Penalties_Yds    0.034764\n",
            "9   Total Offense_Plays    0.034587\n",
            "15      First Downs_Tot    0.033996\n",
            "12     First Downs_Pass    0.032617\n",
            "14      First Downs_Pen    0.028827\n",
            "4            Passing_TD    0.025079\n",
            "16        Penalties_No.    0.024441\n",
            "19        Turnovers_Int    0.023646\n",
            "18        Turnovers_Fum    0.016301\n"
          ]
        }
      ]
    },
    {
      "cell_type": "code",
      "source": [
        "# Create barplot of feature importance for each feature.\n",
        "sns.barplot(x='importance', y='feature', data=f_impt)\n",
        "plt.show()"
      ],
      "metadata": {
        "colab": {
          "base_uri": "https://localhost:8080/",
          "height": 1000
        },
        "id": "iHu045LV1Dqy",
        "outputId": "b32f7a95-da87-458c-a77b-96ebb5ead6cb"
      },
      "execution_count": 9,
      "outputs": [
        {
          "output_type": "display_data",
          "data": {
            "text/plain": [
              "<Figure size 640x480 with 1 Axes>"
            ],
            "image/png": "[encoded data removed]"
          },
          "metadata": {}
        }
      ]
    },
    {
      "cell_type": "code",
      "source": [
        "f_impt.to_csv('feature_importance.csv')"
      ],
      "metadata": {
        "id": "--VkNifl1GiZ"
      },
      "execution_count": 10,
      "outputs": []
    },
    {
      "cell_type": "code",
      "source": [
        "title_game = df.loc[(df['Season'] == 2022) & (df['Rk'] == 13)]"
      ],
      "metadata": {
        "id": "OUWVpPug1vYl"
      },
      "execution_count": 11,
      "outputs": []
    },
    {
      "cell_type": "code",
      "source": [
        "title_game"
      ],
      "metadata": {
        "colab": {
          "base_uri": "https://localhost:8080/",
          "height": 252
        },
        "id": "oHrputdqC3N5",
        "outputId": "0629a773-7e5c-4f54-9dd1-3a7b85e68f0e"
      },
      "execution_count": 12,
      "outputs": [
        {
          "output_type": "execute_result",
          "data": {
            "text/plain": [
              "      Rk            Date          Team H/A      Opponent     Result Win/Loss  \\\n",
              "562   13  12/3/2022 0:00  Kansas State   N           TCU  W (31-28)        W   \n",
              "1240  13  12/3/2022 0:00           TCU   N  Kansas State  L (28-31)        L   \n",
              "\n",
              "      Team Points  Opponent Points  Passing_Cmp  ...  First Downs_Tot  \\\n",
              "562            31               28           18  ...               20   \n",
              "1240           28               31           18  ...               18   \n",
              "\n",
              "      Penalties_No.  Penalties_Yds  Turnovers_Fum  Turnovers_Int  \\\n",
              "562               4             40              1              0   \n",
              "1240              4             45              1              1   \n",
              "\n",
              "      Turnovers_Tot  Season  Custom  WINS  Losses  \n",
              "562               1    2022  Big 12     1       0  \n",
              "1240              2    2022  Big 12     0       1  \n",
              "\n",
              "[2 rows x 34 columns]"
            ],
            "text/html": [
              "\n",
              "  <div id=\"df-5e03d7bd-3543-4042-9f1d-fb228bd6d3bd\" class=\"colab-df-container\">\n",
              "    <div>\n",
              "<style scoped>\n",
              "    .dataframe tbody tr th:only-of-type {\n",
              "        vertical-align: middle;\n",
              "    }\n",
              "\n",
              "    .dataframe tbody tr th {\n",
              "        vertical-align: top;\n",
              "    }\n",
              "\n",
              "    .dataframe thead th {\n",
              "        text-align: right;\n",
              "    }\n",
              "</style>\n",
              "<table border=\"1\" class=\"dataframe\">\n",
              "  <thead>\n",
              "    <tr style=\"text-align: right;\">\n",
              "      <th></th>\n",
              "      <th>Rk</th>\n",
              "      <th>Date</th>\n",
              "      <th>Team</th>\n",
              "      <th>H/A</th>\n",
              "      <th>Opponent</th>\n",
              "      <th>Result</th>\n",
              "      <th>Win/Loss</th>\n",
              "      <th>Team Points</th>\n",
              "      <th>Opponent Points</th>\n",
              "      <th>Passing_Cmp</th>\n",
              "      <th>...</th>\n",
              "      <th>First Downs_Tot</th>\n",
              "      <th>Penalties_No.</th>\n",
              "      <th>Penalties_Yds</th>\n",
              "      <th>Turnovers_Fum</th>\n",
              "      <th>Turnovers_Int</th>\n",
              "      <th>Turnovers_Tot</th>\n",
              "      <th>Season</th>\n",
              "      <th>Custom</th>\n",
              "      <th>WINS</th>\n",
              "      <th>Losses</th>\n",
              "    </tr>\n",
              "  </thead>\n",
              "  <tbody>\n",
              "    <tr>\n",
              "      <th>562</th>\n",
              "      <td>13</td>\n",
              "      <td>12/3/2022 0:00</td>\n",
              "      <td>Kansas State</td>\n",
              "      <td>N</td>\n",
              "      <td>TCU</td>\n",
              "      <td>W (31-28)</td>\n",
              "      <td>W</td>\n",
              "      <td>31</td>\n",
              "      <td>28</td>\n",
              "      <td>18</td>\n",
              "      <td>...</td>\n",
              "      <td>20</td>\n",
              "      <td>4</td>\n",
              "      <td>40</td>\n",
              "      <td>1</td>\n",
              "      <td>0</td>\n",
              "      <td>1</td>\n",
              "      <td>2022</td>\n",
              "      <td>Big 12</td>\n",
              "      <td>1</td>\n",
              "      <td>0</td>\n",
              "    </tr>\n",
              "    <tr>\n",
              "      <th>1240</th>\n",
              "      <td>13</td>\n",
              "      <td>12/3/2022 0:00</td>\n",
              "      <td>TCU</td>\n",
              "      <td>N</td>\n",
              "      <td>Kansas State</td>\n",
              "      <td>L (28-31)</td>\n",
              "      <td>L</td>\n",
              "      <td>28</td>\n",
              "      <td>31</td>\n",
              "      <td>18</td>\n",
              "      <td>...</td>\n",
              "      <td>18</td>\n",
              "      <td>4</td>\n",
              "      <td>45</td>\n",
              "      <td>1</td>\n",
              "      <td>1</td>\n",
              "      <td>2</td>\n",
              "      <td>2022</td>\n",
              "      <td>Big 12</td>\n",
              "      <td>0</td>\n",
              "      <td>1</td>\n",
              "    </tr>\n",
              "  </tbody>\n",
              "</table>\n",
              "<p>2 rows × 34 columns</p>\n",
              "</div>\n",
              "    <div class=\"colab-df-buttons\">\n",
              "\n",
              "  <div class=\"colab-df-container\">\n",
              "    <button class=\"colab-df-convert\" onclick=\"convertToInteractive('df-5e03d7bd-3543-4042-9f1d-fb228bd6d3bd')\"\n",
              "            title=\"Convert this dataframe to an interactive table.\"\n",
              "            style=\"display:none;\">\n",
              "\n",
              "  <svg xmlns=\"http://www.w3.org/2000/svg\" height=\"24px\" viewBox=\"0 -960 960 960\">\n",
              "    <path d=\"M120-120v-720h720v720H120Zm60-500h600v-160H180v160Zm220 220h160v-160H400v160Zm0 220h160v-160H400v160ZM180-400h160v-160H180v160Zm440 0h160v-160H620v160ZM180-180h160v-160H180v160Zm440 0h160v-160H620v160Z\"/>\n",
              "  </svg>\n",
              "    </button>\n",
              "\n",
              "  <style>\n",
              "    .colab-df-container {\n",
              "      display:flex;\n",
              "      gap: 12px;\n",
              "    }\n",
              "\n",
              "    .colab-df-convert {\n",
              "      background-color: #E8F0FE;\n",
              "      border: none;\n",
              "      border-radius: 50%;\n",
              "      cursor: pointer;\n",
              "      display: none;\n",
              "      fill: #1967D2;\n",
              "      height: 32px;\n",
              "      padding: 0 0 0 0;\n",
              "      width: 32px;\n",
              "    }\n",
              "\n",
              "    .colab-df-convert:hover {\n",
              "      background-color: #E2EBFA;\n",
              "      box-shadow: 0px 1px 2px rgba(60, 64, 67, 0.3), 0px 1px 3px 1px rgba(60, 64, 67, 0.15);\n",
              "      fill: #174EA6;\n",
              "    }\n",
              "\n",
              "    .colab-df-buttons div {\n",
              "      margin-bottom: 4px;\n",
              "    }\n",
              "\n",
              "    [theme=dark] .colab-df-convert {\n",
              "      background-color: #3B4455;\n",
              "      fill: #D2E3FC;\n",
              "    }\n",
              "\n",
              "    [theme=dark] .colab-df-convert:hover {\n",
              "      background-color: #434B5C;\n",
              "      box-shadow: 0px 1px 3px 1px rgba(0, 0, 0, 0.15);\n",
              "      filter: drop-shadow(0px 1px 2px rgba(0, 0, 0, 0.3));\n",
              "      fill: #FFFFFF;\n",
              "    }\n",
              "  </style>\n",
              "\n",
              "    <script>\n",
              "      const buttonEl =\n",
              "        document.querySelector('#df-5e03d7bd-3543-4042-9f1d-fb228bd6d3bd button.colab-df-convert');\n",
              "      buttonEl.style.display =\n",
              "        google.colab.kernel.accessAllowed ? 'block' : 'none';\n",
              "\n",
              "      async function convertToInteractive(key) {\n",
              "        const element = document.querySelector('#df-5e03d7bd-3543-4042-9f1d-fb228bd6d3bd');\n",
              "        const dataTable =\n",
              "          await google.colab.kernel.invokeFunction('convertToInteractive',\n",
              "                                                    [key], {});\n",
              "        if (!dataTable) return;\n",
              "\n",
              "        const docLinkHtml = 'Like what you see? Visit the ' +\n",
              "          '<a target=\"_blank\" href=https://colab.research.google.com/notebooks/data_table.ipynb>data table notebook</a>'\n",
              "          + ' to learn more about interactive tables.';\n",
              "        element.innerHTML = '';\n",
              "        dataTable['output_type'] = 'display_data';\n",
              "        await google.colab.output.renderOutput(dataTable, element);\n",
              "        const docLink = document.createElement('div');\n",
              "        docLink.innerHTML = docLinkHtml;\n",
              "        element.appendChild(docLink);\n",
              "      }\n",
              "    </script>\n",
              "  </div>\n",
              "\n",
              "\n",
              "<div id=\"df-1d01b5ba-ebc2-4341-b022-bfa78214c1d1\">\n",
              "  <button class=\"colab-df-quickchart\" onclick=\"quickchart('df-1d01b5ba-ebc2-4341-b022-bfa78214c1d1')\"\n",
              "            title=\"Suggest charts\"\n",
              "            style=\"display:none;\">\n",
              "\n",
              "<svg xmlns=\"http://www.w3.org/2000/svg\" height=\"24px\"viewBox=\"0 0 24 24\"\n",
              "     width=\"24px\">\n",
              "    <g>\n",
              "        <path d=\"M19 3H5c-1.1 0-2 .9-2 2v14c0 1.1.9 2 2 2h14c1.1 0 2-.9 2-2V5c0-1.1-.9-2-2-2zM9 17H7v-7h2v7zm4 0h-2V7h2v10zm4 0h-2v-4h2v4z\"/>\n",
              "    </g>\n",
              "</svg>\n",
              "  </button>\n",
              "\n",
              "<style>\n",
              "  .colab-df-quickchart {\n",
              "      --bg-color: #E8F0FE;\n",
              "      --fill-color: #1967D2;\n",
              "      --hover-bg-color: #E2EBFA;\n",
              "      --hover-fill-color: #174EA6;\n",
              "      --disabled-fill-color: #AAA;\n",
              "      --disabled-bg-color: #DDD;\n",
              "  }\n",
              "\n",
              "  [theme=dark] .colab-df-quickchart {\n",
              "      --bg-color: #3B4455;\n",
              "      --fill-color: #D2E3FC;\n",
              "      --hover-bg-color: #434B5C;\n",
              "      --hover-fill-color: #FFFFFF;\n",
              "      --disabled-bg-color: #3B4455;\n",
              "      --disabled-fill-color: #666;\n",
              "  }\n",
              "\n",
              "  .colab-df-quickchart {\n",
              "    background-color: var(--bg-color);\n",
              "    border: none;\n",
              "    border-radius: 50%;\n",
              "    cursor: pointer;\n",
              "    display: none;\n",
              "    fill: var(--fill-color);\n",
              "    height: 32px;\n",
              "    padding: 0;\n",
              "    width: 32px;\n",
              "  }\n",
              "\n",
              "  .colab-df-quickchart:hover {\n",
              "    background-color: var(--hover-bg-color);\n",
              "    box-shadow: 0 1px 2px rgba(60, 64, 67, 0.3), 0 1px 3px 1px rgba(60, 64, 67, 0.15);\n",
              "    fill: var(--button-hover-fill-color);\n",
              "  }\n",
              "\n",
              "  .colab-df-quickchart-complete:disabled,\n",
              "  .colab-df-quickchart-complete:disabled:hover {\n",
              "    background-color: var(--disabled-bg-color);\n",
              "    fill: var(--disabled-fill-color);\n",
              "    box-shadow: none;\n",
              "  }\n",
              "\n",
              "  .colab-df-spinner {\n",
              "    border: 2px solid var(--fill-color);\n",
              "    border-color: transparent;\n",
              "    border-bottom-color: var(--fill-color);\n",
              "    animation:\n",
              "      spin 1s steps(1) infinite;\n",
              "  }\n",
              "\n",
              "  @keyframes spin {\n",
              "    0% {\n",
              "      border-color: transparent;\n",
              "      border-bottom-color: var(--fill-color);\n",
              "      border-left-color: var(--fill-color);\n",
              "    }\n",
              "    20% {\n",
              "      border-color: transparent;\n",
              "      border-left-color: var(--fill-color);\n",
              "      border-top-color: var(--fill-color);\n",
              "    }\n",
              "    30% {\n",
              "      border-color: transparent;\n",
              "      border-left-color: var(--fill-color);\n",
              "      border-top-color: var(--fill-color);\n",
              "      border-right-color: var(--fill-color);\n",
              "    }\n",
              "    40% {\n",
              "      border-color: transparent;\n",
              "      border-right-color: var(--fill-color);\n",
              "      border-top-color: var(--fill-color);\n",
              "    }\n",
              "    60% {\n",
              "      border-color: transparent;\n",
              "      border-right-color: var(--fill-color);\n",
              "    }\n",
              "    80% {\n",
              "      border-color: transparent;\n",
              "      border-right-color: var(--fill-color);\n",
              "      border-bottom-color: var(--fill-color);\n",
              "    }\n",
              "    90% {\n",
              "      border-color: transparent;\n",
              "      border-bottom-color: var(--fill-color);\n",
              "    }\n",
              "  }\n",
              "</style>\n",
              "\n",
              "  <script>\n",
              "    async function quickchart(key) {\n",
              "      const quickchartButtonEl =\n",
              "        document.querySelector('#' + key + ' button');\n",
              "      quickchartButtonEl.disabled = true;  // To prevent multiple clicks.\n",
              "      quickchartButtonEl.classList.add('colab-df-spinner');\n",
              "      try {\n",
              "        const charts = await google.colab.kernel.invokeFunction(\n",
              "            'suggestCharts', [key], {});\n",
              "      } catch (error) {\n",
              "        console.error('Error during call to suggestCharts:', error);\n",
              "      }\n",
              "      quickchartButtonEl.classList.remove('colab-df-spinner');\n",
              "      quickchartButtonEl.classList.add('colab-df-quickchart-complete');\n",
              "    }\n",
              "    (() => {\n",
              "      let quickchartButtonEl =\n",
              "        document.querySelector('#df-1d01b5ba-ebc2-4341-b022-bfa78214c1d1 button');\n",
              "      quickchartButtonEl.style.display =\n",
              "        google.colab.kernel.accessAllowed ? 'block' : 'none';\n",
              "    })();\n",
              "  </script>\n",
              "</div>\n",
              "\n",
              "  <div id=\"id_6544245d-a3cc-4a4d-b17b-24dfc320c81b\">\n",
              "    <style>\n",
              "      .colab-df-generate {\n",
              "        background-color: #E8F0FE;\n",
              "        border: none;\n",
              "        border-radius: 50%;\n",
              "        cursor: pointer;\n",
              "        display: none;\n",
              "        fill: #1967D2;\n",
              "        height: 32px;\n",
              "        padding: 0 0 0 0;\n",
              "        width: 32px;\n",
              "      }\n",
              "\n",
              "      .colab-df-generate:hover {\n",
              "        background-color: #E2EBFA;\n",
              "        box-shadow: 0px 1px 2px rgba(60, 64, 67, 0.3), 0px 1px 3px 1px rgba(60, 64, 67, 0.15);\n",
              "        fill: #174EA6;\n",
              "      }\n",
              "\n",
              "      [theme=dark] .colab-df-generate {\n",
              "        background-color: #3B4455;\n",
              "        fill: #D2E3FC;\n",
              "      }\n",
              "\n",
              "      [theme=dark] .colab-df-generate:hover {\n",
              "        background-color: #434B5C;\n",
              "        box-shadow: 0px 1px 3px 1px rgba(0, 0, 0, 0.15);\n",
              "        filter: drop-shadow(0px 1px 2px rgba(0, 0, 0, 0.3));\n",
              "        fill: #FFFFFF;\n",
              "      }\n",
              "    </style>\n",
              "    <button class=\"colab-df-generate\" onclick=\"generateWithVariable('title_game')\"\n",
              "            title=\"Generate code using this dataframe.\"\n",
              "            style=\"display:none;\">\n",
              "\n",
              "  <svg xmlns=\"http://www.w3.org/2000/svg\" height=\"24px\"viewBox=\"0 0 24 24\"\n",
              "       width=\"24px\">\n",
              "    <path d=\"M7,19H8.4L18.45,9,17,7.55,7,17.6ZM5,21V16.75L18.45,3.32a2,2,0,0,1,2.83,0l1.4,1.43a1.91,1.91,0,0,1,.58,1.4,1.91,1.91,0,0,1-.58,1.4L9.25,21ZM18.45,9,17,7.55Zm-12,3A5.31,5.31,0,0,0,4.9,8.1,5.31,5.31,0,0,0,1,6.5,5.31,5.31,0,0,0,4.9,4.9,5.31,5.31,0,0,0,6.5,1,5.31,5.31,0,0,0,8.1,4.9,5.31,5.31,0,0,0,12,6.5,5.46,5.46,0,0,0,6.5,12Z\"/>\n",
              "  </svg>\n",
              "    </button>\n",
              "    <script>\n",
              "      (() => {\n",
              "      const buttonEl =\n",
              "        document.querySelector('#id_6544245d-a3cc-4a4d-b17b-24dfc320c81b button.colab-df-generate');\n",
              "      buttonEl.style.display =\n",
              "        google.colab.kernel.accessAllowed ? 'block' : 'none';\n",
              "\n",
              "      buttonEl.onclick = () => {\n",
              "        google.colab.notebook.generateWithVariable('title_game');\n",
              "      }\n",
              "      })();\n",
              "    </script>\n",
              "  </div>\n",
              "\n",
              "    </div>\n",
              "  </div>\n"
            ],
            "application/vnd.google.colaboratory.intrinsic+json": {
              "type": "dataframe",
              "variable_name": "title_game"
            }
          },
          "metadata": {},
          "execution_count": 12
        }
      ]
    },
    {
      "cell_type": "code",
      "source": [],
      "metadata": {
        "id": "nTdMy5VRC4Cm"
      },
      "execution_count": 12,
      "outputs": []
    }
  ]
}